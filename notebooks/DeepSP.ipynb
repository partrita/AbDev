{
 "cells": [
  {
   "cell_type": "markdown",
   "metadata": {
    "id": "J9JNTlgvBevQ"
   },
   "source": [
    "## Install Conda"
   ]
  },
  {
   "cell_type": "code",
   "execution_count": 1,
   "metadata": {
    "colab": {
     "base_uri": "https://localhost:8080/"
    },
    "executionInfo": {
     "elapsed": 1454,
     "status": "ok",
     "timestamp": 1711660792372,
     "user": {
      "displayName": "I-En Wu",
      "userId": "17938684522967785935"
     },
     "user_tz": 240
    },
    "id": "blyOUZEF_sb4",
    "outputId": "29c67582-84ae-4252-a6e9-d2f6ecf55704"
   },
   "outputs": [],
   "source": [
    "# !pip install -q condacolab\n",
    "# import condacolab\n",
    "# condacolab.install()"
   ]
  },
  {
   "cell_type": "code",
   "execution_count": 2,
   "metadata": {
    "colab": {
     "base_uri": "https://localhost:8080/"
    },
    "executionInfo": {
     "elapsed": 1116,
     "status": "ok",
     "timestamp": 1711660796563,
     "user": {
      "displayName": "I-En Wu",
      "userId": "17938684522967785935"
     },
     "user_tz": 240
    },
    "id": "bXjeM_-_BieO",
    "outputId": "ee6cd639-e429-4986-df2f-1008fbcb05a9"
   },
   "outputs": [],
   "source": [
    "# !conda -V"
   ]
  },
  {
   "cell_type": "markdown",
   "metadata": {
    "id": "SHsVpuyKB9Ij"
   },
   "source": [
    "## Import input data"
   ]
  },
  {
   "cell_type": "code",
   "execution_count": 3,
   "metadata": {
    "executionInfo": {
     "elapsed": 487,
     "status": "ok",
     "timestamp": 1711660798516,
     "user": {
      "displayName": "I-En Wu",
      "userId": "17938684522967785935"
     },
     "user_tz": 240
    },
    "id": "JtmCsQ3JB6Qm"
   },
   "outputs": [],
   "source": [
    "import pandas as pd\n",
    "dataset = pd.read_csv('../data/example/Sequence_Info.csv') ## read your csv file"
   ]
  },
  {
   "cell_type": "code",
   "execution_count": 4,
   "metadata": {
    "colab": {
     "base_uri": "https://localhost:8080/",
     "height": 419
    },
    "executionInfo": {
     "elapsed": 170,
     "status": "ok",
     "timestamp": 1711660801600,
     "user": {
      "displayName": "I-En Wu",
      "userId": "17938684522967785935"
     },
     "user_tz": 240
    },
    "id": "eE9V2vA0CLeJ",
    "outputId": "9594d4a8-3ab0-4b9d-d469-a9dc5606f21f"
   },
   "outputs": [
    {
     "data": {
      "text/html": [
       "<div>\n",
       "<style scoped>\n",
       "    .dataframe tbody tr th:only-of-type {\n",
       "        vertical-align: middle;\n",
       "    }\n",
       "\n",
       "    .dataframe tbody tr th {\n",
       "        vertical-align: top;\n",
       "    }\n",
       "\n",
       "    .dataframe thead th {\n",
       "        text-align: right;\n",
       "    }\n",
       "</style>\n",
       "<table border=\"1\" class=\"dataframe\">\n",
       "  <thead>\n",
       "    <tr style=\"text-align: right;\">\n",
       "      <th></th>\n",
       "      <th>Name</th>\n",
       "      <th>VH</th>\n",
       "      <th>VL</th>\n",
       "    </tr>\n",
       "  </thead>\n",
       "  <tbody>\n",
       "    <tr>\n",
       "      <th>0</th>\n",
       "      <td>abituzumab</td>\n",
       "      <td>QVQLQQSGGELAKPGASVKVSCKASGYTFSSFWMHWVRQAPGQGLE...</td>\n",
       "      <td>DIQMTQSPSSLSASVGDRVTITCRASQDISNYLAWYQQKPGKAPKL...</td>\n",
       "    </tr>\n",
       "    <tr>\n",
       "      <th>1</th>\n",
       "      <td>abrilumab</td>\n",
       "      <td>QVQLVQSGAEVKKPGASVKVSCKVSGYTLSDLSIHWVRQAPGKGLE...</td>\n",
       "      <td>DIQMTQSPSSVSASVGDRVTITCRASQGISSWLAWYQQKPGKAPKL...</td>\n",
       "    </tr>\n",
       "    <tr>\n",
       "      <th>2</th>\n",
       "      <td>adalimumab</td>\n",
       "      <td>EVQLVESGGGLVQPGRSLRLSCAASGFTFDDYAMHWVRQAPGKGLE...</td>\n",
       "      <td>DIQMTQSPSSLSASVGDRVTITCRASQGIRNYLAWYQQKPGKAPKL...</td>\n",
       "    </tr>\n",
       "    <tr>\n",
       "      <th>3</th>\n",
       "      <td>alemtuzumab</td>\n",
       "      <td>QVQLQESGPGLVRPSQTLSLTCTVSGFTFTDFYMNWVRQPPGRGLE...</td>\n",
       "      <td>DIQMTQSPSSLSASVGDRVTITCKASQNIDKYLNWYQQKPGKAPKL...</td>\n",
       "    </tr>\n",
       "    <tr>\n",
       "      <th>4</th>\n",
       "      <td>alirocumab</td>\n",
       "      <td>EVQLVESGGGLVQPGGSLRLSCAASGFTFNNYAMNWVRQAPGKGLD...</td>\n",
       "      <td>DIVMTQSPDSLAVSLGERATINCKSSQSVLYRSNNRNFLGWYQQKP...</td>\n",
       "    </tr>\n",
       "    <tr>\n",
       "      <th>...</th>\n",
       "      <td>...</td>\n",
       "      <td>...</td>\n",
       "      <td>...</td>\n",
       "    </tr>\n",
       "    <tr>\n",
       "      <th>132</th>\n",
       "      <td>vedolizumab</td>\n",
       "      <td>QVQLVQSGAEVKKPGASVKVSCKGSGYTFTSYWMHWVRQAPGQRLE...</td>\n",
       "      <td>DVVMTQSPLSLPVTPGEPASISCRSSQSLAKSYGNTYLSWYLQKPG...</td>\n",
       "    </tr>\n",
       "    <tr>\n",
       "      <th>133</th>\n",
       "      <td>veltuzumab</td>\n",
       "      <td>QVQLQQSGAEVKKPGSSVKVSCKASGYTFTSYNMHWVKQAPGQGLE...</td>\n",
       "      <td>DIQLTQSPSSLSASVGDRVTMTCRASSSVSYIHWFQQKPGKAPKPW...</td>\n",
       "    </tr>\n",
       "    <tr>\n",
       "      <th>134</th>\n",
       "      <td>visilizumab</td>\n",
       "      <td>QVQLVQSGAEVKKPGASVKVSCKASGYTFISYTMHWVRQAPGQGLE...</td>\n",
       "      <td>DIQMTQSPSSLSASVGDRVTITCSASSSVSYMNWYQQKPGKAPKRL...</td>\n",
       "    </tr>\n",
       "    <tr>\n",
       "      <th>135</th>\n",
       "      <td>zalutumumab</td>\n",
       "      <td>QVQLVESGGGVVQPGRSLRLSCAASGFTFSTYGMHWVRQAPGKGLE...</td>\n",
       "      <td>AIQLTQSPSSLSASVGDRVTITCRASQDISSALVWYQQKPGKAPKL...</td>\n",
       "    </tr>\n",
       "    <tr>\n",
       "      <th>136</th>\n",
       "      <td>zanolimumab</td>\n",
       "      <td>QVQLQQWGAGLLKPSETLSLTCAVYGGSFSGYYWSWIRQPPGKGLE...</td>\n",
       "      <td>DIQMTQSPSSVSASVGDRVTITCRASQDISSWLAWYQHKPGKAPKL...</td>\n",
       "    </tr>\n",
       "  </tbody>\n",
       "</table>\n",
       "<p>137 rows × 3 columns</p>\n",
       "</div>"
      ],
      "text/plain": [
       "            Name                                                 VH  \\\n",
       "0     abituzumab  QVQLQQSGGELAKPGASVKVSCKASGYTFSSFWMHWVRQAPGQGLE...   \n",
       "1      abrilumab  QVQLVQSGAEVKKPGASVKVSCKVSGYTLSDLSIHWVRQAPGKGLE...   \n",
       "2     adalimumab  EVQLVESGGGLVQPGRSLRLSCAASGFTFDDYAMHWVRQAPGKGLE...   \n",
       "3    alemtuzumab  QVQLQESGPGLVRPSQTLSLTCTVSGFTFTDFYMNWVRQPPGRGLE...   \n",
       "4     alirocumab  EVQLVESGGGLVQPGGSLRLSCAASGFTFNNYAMNWVRQAPGKGLD...   \n",
       "..           ...                                                ...   \n",
       "132  vedolizumab  QVQLVQSGAEVKKPGASVKVSCKGSGYTFTSYWMHWVRQAPGQRLE...   \n",
       "133   veltuzumab  QVQLQQSGAEVKKPGSSVKVSCKASGYTFTSYNMHWVKQAPGQGLE...   \n",
       "134  visilizumab  QVQLVQSGAEVKKPGASVKVSCKASGYTFISYTMHWVRQAPGQGLE...   \n",
       "135  zalutumumab  QVQLVESGGGVVQPGRSLRLSCAASGFTFSTYGMHWVRQAPGKGLE...   \n",
       "136  zanolimumab  QVQLQQWGAGLLKPSETLSLTCAVYGGSFSGYYWSWIRQPPGKGLE...   \n",
       "\n",
       "                                                    VL  \n",
       "0    DIQMTQSPSSLSASVGDRVTITCRASQDISNYLAWYQQKPGKAPKL...  \n",
       "1    DIQMTQSPSSVSASVGDRVTITCRASQGISSWLAWYQQKPGKAPKL...  \n",
       "2    DIQMTQSPSSLSASVGDRVTITCRASQGIRNYLAWYQQKPGKAPKL...  \n",
       "3    DIQMTQSPSSLSASVGDRVTITCKASQNIDKYLNWYQQKPGKAPKL...  \n",
       "4    DIVMTQSPDSLAVSLGERATINCKSSQSVLYRSNNRNFLGWYQQKP...  \n",
       "..                                                 ...  \n",
       "132  DVVMTQSPLSLPVTPGEPASISCRSSQSLAKSYGNTYLSWYLQKPG...  \n",
       "133  DIQLTQSPSSLSASVGDRVTMTCRASSSVSYIHWFQQKPGKAPKPW...  \n",
       "134  DIQMTQSPSSLSASVGDRVTITCSASSSVSYMNWYQQKPGKAPKRL...  \n",
       "135  AIQLTQSPSSLSASVGDRVTITCRASQDISSALVWYQQKPGKAPKL...  \n",
       "136  DIQMTQSPSSVSASVGDRVTITCRASQDISSWLAWYQHKPGKAPKL...  \n",
       "\n",
       "[137 rows x 3 columns]"
      ]
     },
     "execution_count": 4,
     "metadata": {},
     "output_type": "execute_result"
    }
   ],
   "source": [
    "dataset"
   ]
  },
  {
   "cell_type": "markdown",
   "metadata": {
    "id": "OV9ej1xvC1CI"
   },
   "source": [
    "## Install ANARCI for Sequence alignment\n",
    "\n",
    "https://github.com/oxpig/ANARCI"
   ]
  },
  {
   "cell_type": "code",
   "execution_count": 5,
   "metadata": {
    "colab": {
     "base_uri": "https://localhost:8080/"
    },
    "executionInfo": {
     "elapsed": 84628,
     "status": "ok",
     "timestamp": 1711660887837,
     "user": {
      "displayName": "I-En Wu",
      "userId": "17938684522967785935"
     },
     "user_tz": 240
    },
    "id": "YskEZO0OCV-O",
    "outputId": "59160fbf-a0d0-43ab-feba-009826ffcda1"
   },
   "outputs": [],
   "source": [
    "# !conda install -c bioconda anarci"
   ]
  },
  {
   "cell_type": "markdown",
   "metadata": {
    "id": "iR_PQ7LeDShE"
   },
   "source": [
    "### Generate a FASTA file"
   ]
  },
  {
   "cell_type": "code",
   "execution_count": 6,
   "metadata": {
    "executionInfo": {
     "elapsed": 157,
     "status": "ok",
     "timestamp": 1711660922442,
     "user": {
      "displayName": "I-En Wu",
      "userId": "17938684522967785935"
     },
     "user_tz": 240
    },
    "id": "e-beI-jVC-ds"
   },
   "outputs": [],
   "source": [
    "name = dataset['Name'].to_list()\n",
    "Heavy_seq = dataset['VH'].to_list()\n",
    "Light_seq = dataset['VL'].to_list()"
   ]
  },
  {
   "cell_type": "code",
   "execution_count": 7,
   "metadata": {
    "executionInfo": {
     "elapsed": 1028,
     "status": "ok",
     "timestamp": 1711660924194,
     "user": {
      "displayName": "I-En Wu",
      "userId": "17938684522967785935"
     },
     "user_tz": 240
    },
    "id": "Rapi0QNEDm6_"
   },
   "outputs": [],
   "source": [
    "from Bio import SeqIO\n",
    "from Bio.Seq import Seq\n",
    "from Bio.SeqRecord import SeqRecord\n",
    "\n",
    "file_out='../data/example/seq_H.fasta'\n",
    "\n",
    "with open(file_out, \"w\") as output_handle:\n",
    "  for i in range(len(name)):\n",
    "    seq_name = name[i]\n",
    "    seq = Heavy_seq[i]\n",
    "    record = SeqRecord(\n",
    "    Seq(seq),\n",
    "    id=seq_name,\n",
    "    name=\"\",\n",
    "    description=\"\",\n",
    "    )\n",
    "    SeqIO.write(record, output_handle, \"fasta\")\n",
    "\n",
    "file_out='../data/example/seq_L.fasta'\n",
    "\n",
    "with open(file_out, \"w\") as output_handle:\n",
    "  for i in range(len(name)):\n",
    "    seq_name = name[i]\n",
    "    seq = Light_seq[i]\n",
    "    record = SeqRecord(\n",
    "    Seq(seq),\n",
    "    id=seq_name,\n",
    "    name=\"\",\n",
    "    description=\"\",\n",
    "    )\n",
    "    SeqIO.write(record, output_handle, \"fasta\")"
   ]
  },
  {
   "cell_type": "markdown",
   "metadata": {
    "id": "U3RHZTHtEKIJ"
   },
   "source": [
    "### Sequence alignment using ANARCI\n",
    "Do it for heavy and light chain seperately."
   ]
  },
  {
   "cell_type": "code",
   "execution_count": 8,
   "metadata": {
    "executionInfo": {
     "elapsed": 4278,
     "status": "ok",
     "timestamp": 1711660929792,
     "user": {
      "displayName": "I-En Wu",
      "userId": "17938684522967785935"
     },
     "user_tz": 240
    },
    "id": "CBAABgzSD1ZV"
   },
   "outputs": [
    {
     "name": "stdout",
     "output_type": "stream",
     "text": [
      "/mnt/c4a1c56d-0589-48cd-9717-f6c33a86fa3b/Tools/AbDev/.pixi/envs/default/bin/ANARCI:13: SyntaxWarning: invalid escape sequence '\\ '\n",
      "  ANARCI                                                 \\\\\\    //\n"
     ]
    }
   ],
   "source": [
    "!ANARCI -i ../data/example/seq_H.fasta -o ../data/example/seq_aligned -s imgt -r heavy --csv"
   ]
  },
  {
   "cell_type": "code",
   "execution_count": 9,
   "metadata": {
    "executionInfo": {
     "elapsed": 6662,
     "status": "ok",
     "timestamp": 1711660936451,
     "user": {
      "displayName": "I-En Wu",
      "userId": "17938684522967785935"
     },
     "user_tz": 240
    },
    "id": "9NfjORKCEMqY"
   },
   "outputs": [
    {
     "name": "stdout",
     "output_type": "stream",
     "text": [
      "/mnt/c4a1c56d-0589-48cd-9717-f6c33a86fa3b/Tools/AbDev/.pixi/envs/default/bin/ANARCI:13: SyntaxWarning: invalid escape sequence '\\ '\n",
      "  ANARCI                                                 \\\\\\    //\n"
     ]
    }
   ],
   "source": [
    "!ANARCI -i ../data/example/seq_L.fasta -o ../data/example/seq_aligned -s imgt -r light --csv"
   ]
  },
  {
   "cell_type": "markdown",
   "metadata": {
    "id": "3qLUGxniE9e1"
   },
   "source": [
    "## Combine aligned heavy chain and light chain sequences"
   ]
  },
  {
   "cell_type": "code",
   "execution_count": 10,
   "metadata": {
    "executionInfo": {
     "elapsed": 7,
     "status": "ok",
     "timestamp": 1711660936451,
     "user": {
      "displayName": "I-En Wu",
      "userId": "17938684522967785935"
     },
     "user_tz": 240
    },
    "id": "6b-tCTALEOMU"
   },
   "outputs": [],
   "source": [
    "H_aligned = pd.read_csv('../data/example/seq_aligned_H.csv')\n",
    "L_aligned = pd.read_csv('../data/example/seq_aligned_KL.csv')"
   ]
  },
  {
   "cell_type": "code",
   "execution_count": 11,
   "metadata": {
    "executionInfo": {
     "elapsed": 149,
     "status": "ok",
     "timestamp": 1711660942514,
     "user": {
      "displayName": "I-En Wu",
      "userId": "17938684522967785935"
     },
     "user_tz": 240
    },
    "id": "RgQJjBqVFCHx"
   },
   "outputs": [],
   "source": [
    "# https://github.com/Lailabcode/DeepSCM/blob/main/deepscm-master/seq_preprocessing.py\n",
    "\n",
    "def seq_preprocessing():\n",
    "  infile_H = pd.read_csv('../data/example/seq_aligned_H.csv')\n",
    "  infile_L = pd.read_csv('../data/example/seq_aligned_KL.csv')\n",
    "  outfile = open('../data/example/seq_aligned_HL.txt', \"w\")\n",
    "\n",
    "  H_inclusion_list = ['1','2','3','4','5','6','7','8','9','10', \\\n",
    "                    '11','12','13','14','15','16','17','18','19','20', \\\n",
    "                    '21','22','23','24','25','26','27','28','29','30', \\\n",
    "                    '31','32','33','34','35','36','37','38','39','40', \\\n",
    "                    '41','42','43','44','45','46','47','48','49','50', \\\n",
    "                    '51','52','53','54','55','56','57','58','59','60', \\\n",
    "                    '61','62','63','64','65','66','67','68','69','70', \\\n",
    "                    '71','72','73','74','75','76','77','78','79','80', \\\n",
    "                    '81','82','83','84','85','86','87','88','89','90', \\\n",
    "                    '91','92','93','94','95','96','97','98','99','100', \\\n",
    "                    '101','102','103','104','105','106','107','108','109','110', \\\n",
    "                    '111','111A','111B','111C','111D','111E','111F','111G','111H', \\\n",
    "                    '112I','112H','112G','112F','112E','112D','112C','112B','112A','112',\\\n",
    "                    '113','114','115','116','117','118','119','120', \\\n",
    "                    '121','122','123','124','125','126','127','128']\n",
    "\n",
    "  L_inclusion_list = ['1','2','3','4','5','6','7','8','9','10', \\\n",
    "                    '11','12','13','14','15','16','17','18','19','20', \\\n",
    "                    '21','22','23','24','25','26','27','28','29','30', \\\n",
    "                    '31','32','33','34','35','36','37','38','39','40', \\\n",
    "                    '41','42','43','44','45','46','47','48','49','50', \\\n",
    "                    '51','52','53','54','55','56','57','58','59','60', \\\n",
    "                    '61','62','63','64','65','66','67','68','69','70', \\\n",
    "                    '71','72','73','74','75','76','77','78','79','80', \\\n",
    "                    '81','82','83','84','85','86','87','88','89','90', \\\n",
    "                    '91','92','93','94','95','96','97','98','99','100', \\\n",
    "                    '101','102','103','104','105','106','107','108','109','110', \\\n",
    "                    '111','112','113','114','115','116','117','118','119','120', \\\n",
    "                    '121','122','123','124','125','126','127']\n",
    "\n",
    "  H_dict = {'1': 0, '2':1, '3':2, '4':3, '5':4, '6':5, '7':6, '8':7, '9':8, '10':9, \\\n",
    "          '11':10, '12':11, '13':12, '14':13, '15':14, '16':15, '17':16, '18':17, '19':18, '20':19, \\\n",
    "          '21':20, '22':21, '23':22, '24':23, '25':24, '26':25, '27':26, '28':27, '29':28, '30':29, \\\n",
    "          '31':30, '32':31, '33':32, '34':33, '35':34, '36':35, '37':36, '38':37, '39':38, '40':39, \\\n",
    "          '41':40, '42':41, '43':42, '44':43, '45':44, '46':45, '47':46, '48':47, '49':48, '50':49, \\\n",
    "          '51':50, '52':51, '53':52, '54':53, '55':54, '56':55, '57':56, '58':57, '59':58, '60':59, \\\n",
    "          '61':60, '62':61, '63':62, '64':63, '65':64, '66':65, '67':66, '68':67, '69':68, '70':69, \\\n",
    "          '71':70, '72':71, '73':72, '74':73, '75':74, '76':75, '77':76, '78':77, '79':78, '80':79, \\\n",
    "          '81':80, '82':81, '83':82, '84':83, '85':84, '86':85, '87':86, '88':87, '89':88, '90':89, \\\n",
    "          '91':90, '92':91, '93':92, '94':93, '95':94, '96':95, '97':96, '98':97, '99':98, '100':99, \\\n",
    "          '101':100,'102':101,'103':102,'104':103,'105':104,'106':105,'107':106,'108':107,'109':108,'110':109, \\\n",
    "          '111':110,'111A':111,'111B':112,'111C':113,'111D':114,'111E':115,'111F':116,'111G':117,'111H':118, \\\n",
    "          '112I':119,'112H':120,'112G':121,'112F':122,'112E':123,'112D':124,'112C':125,'112B':126,'112A':127,'112':128, \\\n",
    "          '113':129,'114':130,'115':131,'116':132,'117':133,'118':134,'119':135,'120':136, \\\n",
    "          '121':137,'122':138,'123':139,'124':140,'125':141,'126':142,'127':143,'128':144}\n",
    "\n",
    "  L_dict = {'1': 0, '2':1, '3':2, '4':3, '5':4, '6':5, '7':6, '8':7, '9':8, '10':9, \\\n",
    "          '11':10, '12':11, '13':12, '14':13, '15':14, '16':15, '17':16, '18':17, '19':18, '20':19, \\\n",
    "          '21':20, '22':21, '23':22, '24':23, '25':24, '26':25, '27':26, '28':27, '29':28, '30':29, \\\n",
    "          '31':30, '32':31, '33':32, '34':33, '35':34, '36':35, '37':36, '38':37, '39':38, '40':39, \\\n",
    "          '41':40, '42':41, '43':42, '44':43, '45':44, '46':45, '47':46, '48':47, '49':48, '50':49, \\\n",
    "          '51':50, '52':51, '53':52, '54':53, '55':54, '56':55, '57':56, '58':57, '59':58, '60':59, \\\n",
    "          '61':60, '62':61, '63':62, '64':63, '65':64, '66':65, '67':66, '68':67, '69':68, '70':69, \\\n",
    "          '71':70, '72':71, '73':72, '74':73, '75':74, '76':75, '77':76, '78':77, '79':78, '80':79, \\\n",
    "          '81':80, '82':81, '83':82, '84':83, '85':84, '86':85, '87':86, '88':87, '89':88, '90':89, \\\n",
    "          '91':90, '92':91, '93':92, '94':93, '95':94, '96':95, '97':96, '98':97, '99':98, '100':99, \\\n",
    "          '101':100,'102':101,'103':102,'104':103,'105':104,'106':105,'107':106,'108':107,'109':108,'110':109, \\\n",
    "          '111':110,'112':111,'113':112,'114':113,'115':114,'116':115,'117':116,'118':117,'119':118,'120':119, \\\n",
    "          '121':120,'122':121,'123':122,'124':123,'125':124,'126':125,'127':126,'128':127}\n",
    "\n",
    "\n",
    "  N_mAbs = len(infile_H[\"Id\"])\n",
    "\n",
    "  for i in range(N_mAbs):\n",
    "    H_tmp = 145*['-']\n",
    "    L_tmp = 127*['-']\n",
    "    for col in infile_H.columns:\n",
    "        if(col in H_inclusion_list):\n",
    "            H_tmp[H_dict[col]]=infile_H.iloc[i][col]\n",
    "    for col in infile_L.columns:\n",
    "        if(col in L_inclusion_list):\n",
    "            L_tmp[L_dict[col]]=infile_L.iloc[i][col]\n",
    "\n",
    "    aa_string = ''\n",
    "    for aa in H_tmp+L_tmp:\n",
    "         aa_string += aa\n",
    "    outfile.write(infile_H.iloc[i,0]+\" \"+aa_string)\n",
    "    outfile.write(\"\\n\")\n",
    "\n",
    "  outfile.close()\n",
    "  return"
   ]
  },
  {
   "cell_type": "code",
   "execution_count": 12,
   "metadata": {
    "executionInfo": {
     "elapsed": 10292,
     "status": "ok",
     "timestamp": 1711660954790,
     "user": {
      "displayName": "I-En Wu",
      "userId": "17938684522967785935"
     },
     "user_tz": 240
    },
    "id": "uSX-fXoNFGDl"
   },
   "outputs": [],
   "source": [
    "seq_preprocessing()"
   ]
  },
  {
   "cell_type": "markdown",
   "metadata": {
    "id": "HltdiRAxXE-W"
   },
   "source": [
    "## DeepSP"
   ]
  },
  {
   "cell_type": "code",
   "execution_count": 13,
   "metadata": {
    "executionInfo": {
     "elapsed": 4809,
     "status": "ok",
     "timestamp": 1711660959594,
     "user": {
      "displayName": "I-En Wu",
      "userId": "17938684522967785935"
     },
     "user_tz": 240
    },
    "id": "a9RcC07cXHN8"
   },
   "outputs": [
    {
     "name": "stderr",
     "output_type": "stream",
     "text": [
      "2025-08-21 13:33:16.478684: I tensorflow/core/util/port.cc:153] oneDNN custom operations are on. You may see slightly different numerical results due to floating-point round-off errors from different computation orders. To turn them off, set the environment variable `TF_ENABLE_ONEDNN_OPTS=0`.\n",
      "2025-08-21 13:33:16.497164: I tensorflow/core/platform/cpu_feature_guard.cc:210] This TensorFlow binary is optimized to use available CPU instructions in performance-critical operations.\n",
      "To enable the following instructions: SSE3 SSE4.1 SSE4.2 AVX AVX2 AVX_VNNI FMA, in other operations, rebuild TensorFlow with the appropriate compiler flags.\n"
     ]
    }
   ],
   "source": [
    "import plotly.express as px\n",
    "from keras.models import model_from_json\n",
    "import numpy as np\n",
    "import csv"
   ]
  },
  {
   "cell_type": "code",
   "execution_count": 14,
   "metadata": {
    "executionInfo": {
     "elapsed": 8,
     "status": "ok",
     "timestamp": 1711660959595,
     "user": {
      "displayName": "I-En Wu",
      "userId": "17938684522967785935"
     },
     "user_tz": 240
    },
    "id": "Zg69ygADYR4f"
   },
   "outputs": [],
   "source": [
    "def load_pred_data(filename):\n",
    "    name_list=[]\n",
    "    seq_list=[]\n",
    "    with open(filename) as datafile:\n",
    "        for line in datafile:\n",
    "            line = line.strip().split()\n",
    "            name_list.append(line[0])\n",
    "            seq_list.append(line[1])\n",
    "    return name_list, seq_list\n",
    "\n",
    "def one_hot_encoder(s):\n",
    "    d = {'A': 0, 'C': 1, 'D': 2, 'E': 3, 'F': 4, 'G': 5, 'H': 6, 'I': 7, 'K': 8, 'L': 9, 'M': 10, 'N': 11, 'P': 12, 'Q': 13, 'R': 14, 'S': 15, 'T': 16, 'V': 17, 'W': 18, 'Y': 19, '-': 20}\n",
    "\n",
    "    x = np.zeros((len(d), len(s)))\n",
    "    x[[d[c] for c in s], range(len(s))] = 1\n",
    "\n",
    "    return x"
   ]
  },
  {
   "cell_type": "code",
   "execution_count": 15,
   "metadata": {},
   "outputs": [
    {
     "name": "stdout",
     "output_type": "stream",
     "text": [
      "\u001b[1m5/5\u001b[0m \u001b[32m━━━━━━━━━━━━━━━━━━━━\u001b[0m\u001b[37m\u001b[0m \u001b[1m0s\u001b[0m 20ms/step\n",
      "\u001b[1m5/5\u001b[0m \u001b[32m━━━━━━━━━━━━━━━━━━━━\u001b[0m\u001b[37m\u001b[0m \u001b[1m0s\u001b[0m 19ms/step\n",
      "WARNING:tensorflow:5 out of the last 11 calls to <function TensorFlowTrainer.make_predict_function.<locals>.one_step_on_data_distributed at 0x70f3402ba020> triggered tf.function retracing. Tracing is expensive and the excessive number of tracings could be due to (1) creating @tf.function repeatedly in a loop, (2) passing tensors with different shapes, (3) passing Python objects instead of tensors. For (1), please define your @tf.function outside of the loop. For (2), @tf.function has reduce_retracing=True option that can avoid unnecessary retracing. For (3), please refer to https://www.tensorflow.org/guide/function#controlling_retracing and https://www.tensorflow.org/api_docs/python/tf/function for  more details.\n",
      "\u001b[1m1/5\u001b[0m \u001b[32m━━━━\u001b[0m\u001b[37m━━━━━━━━━━━━━━━━\u001b[0m \u001b[1m0s\u001b[0m 63ms/stepWARNING:tensorflow:5 out of the last 11 calls to <function TensorFlowTrainer.make_predict_function.<locals>.one_step_on_data_distributed at 0x70f3402ba020> triggered tf.function retracing. Tracing is expensive and the excessive number of tracings could be due to (1) creating @tf.function repeatedly in a loop, (2) passing tensors with different shapes, (3) passing Python objects instead of tensors. For (1), please define your @tf.function outside of the loop. For (2), @tf.function has reduce_retracing=True option that can avoid unnecessary retracing. For (3), please refer to https://www.tensorflow.org/guide/function#controlling_retracing and https://www.tensorflow.org/api_docs/python/tf/function for  more details.\n",
      "\u001b[1m5/5\u001b[0m \u001b[32m━━━━━━━━━━━━━━━━━━━━\u001b[0m\u001b[37m\u001b[0m \u001b[1m0s\u001b[0m 18ms/step\n"
     ]
    }
   ],
   "source": [
    "# 필요한 함수와 클래스를 tensorflow.keras에서 가져옵니다.\n",
    "from tensorflow.keras.models import model_from_json, Sequential\n",
    "import numpy as np\n",
    "\n",
    "name_list, seq_list = load_pred_data(\"../data/example/seq_aligned_HL.txt\")\n",
    "\n",
    "for prop in ['SAPpos', 'SCMpos', 'SCMneg']:\n",
    "    json_file = open('../models/Conv1D_regression'+prop+'.json', 'r')\n",
    "    loaded_model_json = json_file.read()\n",
    "    json_file.close()\n",
    "    \n",
    "    # ⭐️ 수정된 부분: custom_objects 인자를 추가하여 'Sequential' 클래스를 직접 지정합니다.\n",
    "    loaded_model = model_from_json(\n",
    "        loaded_model_json,\n",
    "        custom_objects={'Sequential': Sequential}\n",
    "    )\n",
    "\n",
    "    # load weights into model\n",
    "    loaded_model.load_weights(\"../models/Conv1D_regression_\"+prop+\".h5\")\n",
    "\n",
    "    X = [one_hot_encoder(s=x) for x in seq_list]\n",
    "    X = np.transpose(np.asarray(X), (0, 2, 1))\n",
    "    X = np.asarray(X)\n",
    "\n",
    "    loaded_model.compile(optimizer='adam', loss='mae', metrics=['mae'])\n",
    "    y_pred = loaded_model.predict(X)\n",
    "\n",
    "    outfile = open(\"../data/example/pnas_deep\"+prop+\".csv\",\"w\")\n",
    "\n",
    "    for i in range(len(y_pred)):\n",
    "        outfile.write(\"%s %s\" % (name_list[i], ' '.join(['%.2f' % num for num in y_pred[i]])))\n",
    "        outfile.write('\\n')\n",
    "\n",
    "    outfile.close()"
   ]
  },
  {
   "cell_type": "code",
   "execution_count": 16,
   "metadata": {
    "colab": {
     "base_uri": "https://localhost:8080/",
     "height": 439
    },
    "executionInfo": {
     "elapsed": 517,
     "status": "ok",
     "timestamp": 1711660969496,
     "user": {
      "displayName": "I-En Wu",
      "userId": "17938684522967785935"
     },
     "user_tz": 240
    },
    "id": "zNkR8CP7ZTVJ",
    "outputId": "89e12957-e07f-4ea5-8001-51b1a9b85616"
   },
   "outputs": [
    {
     "data": {
      "text/html": [
       "<div>\n",
       "<style scoped>\n",
       "    .dataframe tbody tr th:only-of-type {\n",
       "        vertical-align: middle;\n",
       "    }\n",
       "\n",
       "    .dataframe tbody tr th {\n",
       "        vertical-align: top;\n",
       "    }\n",
       "\n",
       "    .dataframe thead th {\n",
       "        text-align: right;\n",
       "    }\n",
       "</style>\n",
       "<table border=\"1\" class=\"dataframe\">\n",
       "  <thead>\n",
       "    <tr style=\"text-align: right;\">\n",
       "      <th></th>\n",
       "      <th>Name</th>\n",
       "      <th>SAP_pos_CDRH1</th>\n",
       "      <th>SAP_pos_CDRH2</th>\n",
       "      <th>SAP_pos_CDRH3</th>\n",
       "      <th>SAP_pos_CDRL1</th>\n",
       "      <th>SAP_pos_CDRL2</th>\n",
       "      <th>SAP_pos_CDRL3</th>\n",
       "      <th>SAP_pos_CDR</th>\n",
       "      <th>SAP_pos_Hv</th>\n",
       "      <th>SAP_pos_Lv</th>\n",
       "      <th>...</th>\n",
       "      <th>SCM_pos_CDRH1</th>\n",
       "      <th>SCM_pos_CDRH2</th>\n",
       "      <th>SCM_pos_CDRH3</th>\n",
       "      <th>SCM_pos_CDRL1</th>\n",
       "      <th>SCM_pos_CDRL2</th>\n",
       "      <th>SCM_pos_CDRL3</th>\n",
       "      <th>SCM_pos_CDR</th>\n",
       "      <th>SCM_pos_Hv</th>\n",
       "      <th>SCM_pos_Lv</th>\n",
       "      <th>SCM_pos_Fv</th>\n",
       "    </tr>\n",
       "  </thead>\n",
       "  <tbody>\n",
       "    <tr>\n",
       "      <th>0</th>\n",
       "      <td>abituzumab</td>\n",
       "      <td>3.86</td>\n",
       "      <td>4.35</td>\n",
       "      <td>8.72</td>\n",
       "      <td>2.15</td>\n",
       "      <td>4.70</td>\n",
       "      <td>6.79</td>\n",
       "      <td>30.68</td>\n",
       "      <td>45.53</td>\n",
       "      <td>36.43</td>\n",
       "      <td>...</td>\n",
       "      <td>33.36</td>\n",
       "      <td>50.21</td>\n",
       "      <td>58.55</td>\n",
       "      <td>37.38</td>\n",
       "      <td>99.53</td>\n",
       "      <td>19.15</td>\n",
       "      <td>301.27</td>\n",
       "      <td>877.35</td>\n",
       "      <td>1176.29</td>\n",
       "      <td>2044.64</td>\n",
       "    </tr>\n",
       "    <tr>\n",
       "      <th>1</th>\n",
       "      <td>abrilumab</td>\n",
       "      <td>3.42</td>\n",
       "      <td>1.08</td>\n",
       "      <td>1.83</td>\n",
       "      <td>2.09</td>\n",
       "      <td>2.40</td>\n",
       "      <td>6.01</td>\n",
       "      <td>17.93</td>\n",
       "      <td>43.01</td>\n",
       "      <td>31.23</td>\n",
       "      <td>...</td>\n",
       "      <td>3.42</td>\n",
       "      <td>-1.28</td>\n",
       "      <td>7.43</td>\n",
       "      <td>36.73</td>\n",
       "      <td>8.36</td>\n",
       "      <td>19.31</td>\n",
       "      <td>67.66</td>\n",
       "      <td>919.62</td>\n",
       "      <td>941.50</td>\n",
       "      <td>1849.14</td>\n",
       "    </tr>\n",
       "    <tr>\n",
       "      <th>2</th>\n",
       "      <td>adalimumab</td>\n",
       "      <td>2.13</td>\n",
       "      <td>2.52</td>\n",
       "      <td>14.45</td>\n",
       "      <td>1.90</td>\n",
       "      <td>3.59</td>\n",
       "      <td>3.17</td>\n",
       "      <td>27.50</td>\n",
       "      <td>58.42</td>\n",
       "      <td>30.52</td>\n",
       "      <td>...</td>\n",
       "      <td>3.18</td>\n",
       "      <td>19.58</td>\n",
       "      <td>29.51</td>\n",
       "      <td>116.77</td>\n",
       "      <td>41.76</td>\n",
       "      <td>55.55</td>\n",
       "      <td>263.84</td>\n",
       "      <td>907.11</td>\n",
       "      <td>1219.44</td>\n",
       "      <td>2109.09</td>\n",
       "    </tr>\n",
       "    <tr>\n",
       "      <th>3</th>\n",
       "      <td>alemtuzumab</td>\n",
       "      <td>2.27</td>\n",
       "      <td>3.70</td>\n",
       "      <td>5.04</td>\n",
       "      <td>2.22</td>\n",
       "      <td>2.76</td>\n",
       "      <td>3.33</td>\n",
       "      <td>20.66</td>\n",
       "      <td>52.66</td>\n",
       "      <td>32.29</td>\n",
       "      <td>...</td>\n",
       "      <td>31.13</td>\n",
       "      <td>109.97</td>\n",
       "      <td>113.78</td>\n",
       "      <td>59.37</td>\n",
       "      <td>59.35</td>\n",
       "      <td>156.55</td>\n",
       "      <td>539.40</td>\n",
       "      <td>1461.24</td>\n",
       "      <td>1302.77</td>\n",
       "      <td>2748.46</td>\n",
       "    </tr>\n",
       "    <tr>\n",
       "      <th>4</th>\n",
       "      <td>alirocumab</td>\n",
       "      <td>2.34</td>\n",
       "      <td>0.49</td>\n",
       "      <td>5.75</td>\n",
       "      <td>6.34</td>\n",
       "      <td>2.48</td>\n",
       "      <td>4.47</td>\n",
       "      <td>23.01</td>\n",
       "      <td>52.35</td>\n",
       "      <td>43.46</td>\n",
       "      <td>...</td>\n",
       "      <td>87.39</td>\n",
       "      <td>30.73</td>\n",
       "      <td>22.05</td>\n",
       "      <td>163.36</td>\n",
       "      <td>64.86</td>\n",
       "      <td>19.05</td>\n",
       "      <td>393.55</td>\n",
       "      <td>1270.47</td>\n",
       "      <td>966.63</td>\n",
       "      <td>2228.18</td>\n",
       "    </tr>\n",
       "    <tr>\n",
       "      <th>...</th>\n",
       "      <td>...</td>\n",
       "      <td>...</td>\n",
       "      <td>...</td>\n",
       "      <td>...</td>\n",
       "      <td>...</td>\n",
       "      <td>...</td>\n",
       "      <td>...</td>\n",
       "      <td>...</td>\n",
       "      <td>...</td>\n",
       "      <td>...</td>\n",
       "      <td>...</td>\n",
       "      <td>...</td>\n",
       "      <td>...</td>\n",
       "      <td>...</td>\n",
       "      <td>...</td>\n",
       "      <td>...</td>\n",
       "      <td>...</td>\n",
       "      <td>...</td>\n",
       "      <td>...</td>\n",
       "      <td>...</td>\n",
       "      <td>...</td>\n",
       "    </tr>\n",
       "    <tr>\n",
       "      <th>132</th>\n",
       "      <td>vedolizumab</td>\n",
       "      <td>2.81</td>\n",
       "      <td>0.27</td>\n",
       "      <td>11.76</td>\n",
       "      <td>5.93</td>\n",
       "      <td>2.96</td>\n",
       "      <td>2.82</td>\n",
       "      <td>27.31</td>\n",
       "      <td>51.97</td>\n",
       "      <td>51.45</td>\n",
       "      <td>...</td>\n",
       "      <td>30.37</td>\n",
       "      <td>-3.82</td>\n",
       "      <td>4.03</td>\n",
       "      <td>147.94</td>\n",
       "      <td>50.61</td>\n",
       "      <td>64.96</td>\n",
       "      <td>289.12</td>\n",
       "      <td>982.95</td>\n",
       "      <td>1155.90</td>\n",
       "      <td>2126.85</td>\n",
       "    </tr>\n",
       "    <tr>\n",
       "      <th>133</th>\n",
       "      <td>veltuzumab</td>\n",
       "      <td>2.51</td>\n",
       "      <td>4.15</td>\n",
       "      <td>14.46</td>\n",
       "      <td>3.16</td>\n",
       "      <td>4.07</td>\n",
       "      <td>2.54</td>\n",
       "      <td>31.23</td>\n",
       "      <td>43.67</td>\n",
       "      <td>37.64</td>\n",
       "      <td>...</td>\n",
       "      <td>34.90</td>\n",
       "      <td>0.02</td>\n",
       "      <td>39.57</td>\n",
       "      <td>32.31</td>\n",
       "      <td>35.55</td>\n",
       "      <td>30.64</td>\n",
       "      <td>166.97</td>\n",
       "      <td>1078.54</td>\n",
       "      <td>1059.89</td>\n",
       "      <td>2115.08</td>\n",
       "    </tr>\n",
       "    <tr>\n",
       "      <th>134</th>\n",
       "      <td>visilizumab</td>\n",
       "      <td>6.16</td>\n",
       "      <td>3.60</td>\n",
       "      <td>15.23</td>\n",
       "      <td>2.19</td>\n",
       "      <td>3.86</td>\n",
       "      <td>2.65</td>\n",
       "      <td>34.40</td>\n",
       "      <td>57.11</td>\n",
       "      <td>32.81</td>\n",
       "      <td>...</td>\n",
       "      <td>100.69</td>\n",
       "      <td>106.18</td>\n",
       "      <td>75.53</td>\n",
       "      <td>-2.44</td>\n",
       "      <td>69.55</td>\n",
       "      <td>18.26</td>\n",
       "      <td>372.93</td>\n",
       "      <td>1269.88</td>\n",
       "      <td>1078.14</td>\n",
       "      <td>2312.87</td>\n",
       "    </tr>\n",
       "    <tr>\n",
       "      <th>135</th>\n",
       "      <td>zalutumumab</td>\n",
       "      <td>1.99</td>\n",
       "      <td>5.14</td>\n",
       "      <td>18.61</td>\n",
       "      <td>0.97</td>\n",
       "      <td>2.46</td>\n",
       "      <td>5.58</td>\n",
       "      <td>34.69</td>\n",
       "      <td>63.19</td>\n",
       "      <td>32.75</td>\n",
       "      <td>...</td>\n",
       "      <td>29.38</td>\n",
       "      <td>5.33</td>\n",
       "      <td>43.21</td>\n",
       "      <td>1.04</td>\n",
       "      <td>2.67</td>\n",
       "      <td>29.45</td>\n",
       "      <td>108.28</td>\n",
       "      <td>1160.79</td>\n",
       "      <td>941.98</td>\n",
       "      <td>2081.37</td>\n",
       "    </tr>\n",
       "    <tr>\n",
       "      <th>136</th>\n",
       "      <td>zanolimumab</td>\n",
       "      <td>2.15</td>\n",
       "      <td>0.20</td>\n",
       "      <td>7.36</td>\n",
       "      <td>1.88</td>\n",
       "      <td>3.06</td>\n",
       "      <td>6.39</td>\n",
       "      <td>22.49</td>\n",
       "      <td>60.04</td>\n",
       "      <td>33.88</td>\n",
       "      <td>...</td>\n",
       "      <td>74.14</td>\n",
       "      <td>40.34</td>\n",
       "      <td>39.78</td>\n",
       "      <td>23.51</td>\n",
       "      <td>26.26</td>\n",
       "      <td>18.63</td>\n",
       "      <td>213.25</td>\n",
       "      <td>1210.54</td>\n",
       "      <td>1129.13</td>\n",
       "      <td>2317.12</td>\n",
       "    </tr>\n",
       "  </tbody>\n",
       "</table>\n",
       "<p>137 rows × 31 columns</p>\n",
       "</div>"
      ],
      "text/plain": [
       "            Name  SAP_pos_CDRH1  SAP_pos_CDRH2  SAP_pos_CDRH3  SAP_pos_CDRL1  \\\n",
       "0     abituzumab           3.86           4.35           8.72           2.15   \n",
       "1      abrilumab           3.42           1.08           1.83           2.09   \n",
       "2     adalimumab           2.13           2.52          14.45           1.90   \n",
       "3    alemtuzumab           2.27           3.70           5.04           2.22   \n",
       "4     alirocumab           2.34           0.49           5.75           6.34   \n",
       "..           ...            ...            ...            ...            ...   \n",
       "132  vedolizumab           2.81           0.27          11.76           5.93   \n",
       "133   veltuzumab           2.51           4.15          14.46           3.16   \n",
       "134  visilizumab           6.16           3.60          15.23           2.19   \n",
       "135  zalutumumab           1.99           5.14          18.61           0.97   \n",
       "136  zanolimumab           2.15           0.20           7.36           1.88   \n",
       "\n",
       "     SAP_pos_CDRL2  SAP_pos_CDRL3  SAP_pos_CDR  SAP_pos_Hv  SAP_pos_Lv  ...  \\\n",
       "0             4.70           6.79        30.68       45.53       36.43  ...   \n",
       "1             2.40           6.01        17.93       43.01       31.23  ...   \n",
       "2             3.59           3.17        27.50       58.42       30.52  ...   \n",
       "3             2.76           3.33        20.66       52.66       32.29  ...   \n",
       "4             2.48           4.47        23.01       52.35       43.46  ...   \n",
       "..             ...            ...          ...         ...         ...  ...   \n",
       "132           2.96           2.82        27.31       51.97       51.45  ...   \n",
       "133           4.07           2.54        31.23       43.67       37.64  ...   \n",
       "134           3.86           2.65        34.40       57.11       32.81  ...   \n",
       "135           2.46           5.58        34.69       63.19       32.75  ...   \n",
       "136           3.06           6.39        22.49       60.04       33.88  ...   \n",
       "\n",
       "     SCM_pos_CDRH1  SCM_pos_CDRH2  SCM_pos_CDRH3  SCM_pos_CDRL1  \\\n",
       "0            33.36          50.21          58.55          37.38   \n",
       "1             3.42          -1.28           7.43          36.73   \n",
       "2             3.18          19.58          29.51         116.77   \n",
       "3            31.13         109.97         113.78          59.37   \n",
       "4            87.39          30.73          22.05         163.36   \n",
       "..             ...            ...            ...            ...   \n",
       "132          30.37          -3.82           4.03         147.94   \n",
       "133          34.90           0.02          39.57          32.31   \n",
       "134         100.69         106.18          75.53          -2.44   \n",
       "135          29.38           5.33          43.21           1.04   \n",
       "136          74.14          40.34          39.78          23.51   \n",
       "\n",
       "     SCM_pos_CDRL2  SCM_pos_CDRL3  SCM_pos_CDR  SCM_pos_Hv  SCM_pos_Lv  \\\n",
       "0            99.53          19.15       301.27      877.35     1176.29   \n",
       "1             8.36          19.31        67.66      919.62      941.50   \n",
       "2            41.76          55.55       263.84      907.11     1219.44   \n",
       "3            59.35         156.55       539.40     1461.24     1302.77   \n",
       "4            64.86          19.05       393.55     1270.47      966.63   \n",
       "..             ...            ...          ...         ...         ...   \n",
       "132          50.61          64.96       289.12      982.95     1155.90   \n",
       "133          35.55          30.64       166.97     1078.54     1059.89   \n",
       "134          69.55          18.26       372.93     1269.88     1078.14   \n",
       "135           2.67          29.45       108.28     1160.79      941.98   \n",
       "136          26.26          18.63       213.25     1210.54     1129.13   \n",
       "\n",
       "     SCM_pos_Fv  \n",
       "0       2044.64  \n",
       "1       1849.14  \n",
       "2       2109.09  \n",
       "3       2748.46  \n",
       "4       2228.18  \n",
       "..          ...  \n",
       "132     2126.85  \n",
       "133     2115.08  \n",
       "134     2312.87  \n",
       "135     2081.37  \n",
       "136     2317.12  \n",
       "\n",
       "[137 rows x 31 columns]"
      ]
     },
     "execution_count": 16,
     "metadata": {},
     "output_type": "execute_result"
    }
   ],
   "source": [
    "df_pnas_SAPpos = pd.read_csv(\"../data/example/pnas_deepSAPpos.csv\", delimiter = \" \", header=None)\n",
    "df_pnas_SAPpos.columns =  ['Name','SAP_pos_CDRH1', 'SAP_pos_CDRH2', 'SAP_pos_CDRH3', 'SAP_pos_CDRL1', 'SAP_pos_CDRL2', 'SAP_pos_CDRL3','SAP_pos_CDR', 'SAP_pos_Hv', 'SAP_pos_Lv', 'SAP_pos_Fv']\n",
    "\n",
    "df_pnas_SCMpos = pd.read_csv(\"../data/example/pnas_deepSCMpos.csv\", delimiter = \" \", header=None)\n",
    "df_pnas_SCMpos.columns = ['Name', 'SCM_pos_CDRH1', 'SCM_pos_CDRH2', 'SCM_pos_CDRH3', 'SCM_pos_CDRL1', 'SCM_pos_CDRL2', 'SCM_pos_CDRL3','SCM_pos_CDR', 'SCM_pos_Hv','SCM_pos_Lv', 'SCM_pos_Fv']\n",
    "\n",
    "df_pnas_SCMneg = pd.read_csv(\"../data/example/pnas_deepSCMneg.csv\", delimiter = \" \", header=None)\n",
    "df_pnas_SCMneg.columns = ['Name','SCM_neg_CDRH1', 'SCM_neg_CDRH2', 'SCM_neg_CDRH3', 'SCM_neg_CDRL1', 'SCM_neg_CDRL2', 'SCM_neg_CDRL3','SCM_neg_CDR', 'SCM_neg_Hv', 'SCM_neg_Lv', 'SCM_neg_Fv']\n",
    "\n",
    "\n",
    "merged_df = df_pnas_SAPpos.merge(df_pnas_SCMneg, on='Name', how='inner')\n",
    "merged_df = merged_df.merge(df_pnas_SCMpos, on='Name', how='inner')\n",
    "df_pnas_DL = merged_df\n",
    "\n",
    "# Get the list of antibodies from df_pnas_MD #since not all antibodies made it to the final MD simulation stage\n",
    "common_antibodies = dataset['Name'].tolist()\n",
    "\n",
    "# Filter rows in df_pnas_DL based on the antibodies in df_pnas_MD\n",
    "df_pnas_DL = df_pnas_DL[df_pnas_DL['Name'].isin(common_antibodies)]\n",
    "\n",
    "df_pnas_DL.to_csv('../data/example/SAPSCM.csv', index=False)\n",
    "df_pnas_DL"
   ]
  }
 ],
 "metadata": {
  "colab": {
   "authorship_tag": "ABX9TyNELx3R13SE2w+KEyTzjXvF",
   "provenance": []
  },
  "kernelspec": {
   "display_name": "default",
   "language": "python",
   "name": "python3"
  },
  "language_info": {
   "codemirror_mode": {
    "name": "ipython",
    "version": 3
   },
   "file_extension": ".py",
   "mimetype": "text/x-python",
   "name": "python",
   "nbconvert_exporter": "python",
   "pygments_lexer": "ipython3",
   "version": "3.12.11"
  }
 },
 "nbformat": 4,
 "nbformat_minor": 0
}
