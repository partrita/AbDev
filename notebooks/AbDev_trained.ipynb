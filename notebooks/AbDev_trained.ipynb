{
 "cells": [
  {
   "cell_type": "markdown",
   "metadata": {
    "id": "E8BnLW5aLgXI"
   },
   "source": [
    "# Package import"
   ]
  },
  {
   "cell_type": "code",
   "execution_count": 3,
   "metadata": {
    "executionInfo": {
     "elapsed": 140,
     "status": "ok",
     "timestamp": 1705894670428,
     "user": {
      "displayName": "I-En Wu",
      "userId": "17938684522967785935"
     },
     "user_tz": 300
    },
    "id": "oMsNf85SLgXM"
   },
   "outputs": [],
   "source": [
    "import pandas as pd\n",
    "from sklearn.preprocessing import StandardScaler\n",
    "from sklearn.neighbors import KNeighborsRegressor\n",
    "from sklearn.linear_model import LinearRegression\n",
    "from math import sqrt\n",
    "from sklearn.metrics import mean_squared_error, r2_score\n",
    "import joblib"
   ]
  },
  {
   "cell_type": "markdown",
   "metadata": {},
   "source": [
    "# Data import"
   ]
  },
  {
   "cell_type": "code",
   "execution_count": 4,
   "metadata": {
    "executionInfo": {
     "elapsed": 4218,
     "status": "ok",
     "timestamp": 1705884107933,
     "user": {
      "displayName": "I-En Wu",
      "userId": "17938684522967785935"
     },
     "user_tz": 300
    },
    "id": "tjF3GdsDL31_"
   },
   "outputs": [],
   "source": [
    "dataset_ACSINS = pd.read_csv(\"../data/ACSINS/DeepSP_Feature.csv\")\n",
    "dataset_AS = pd.read_csv(\"../data/AS/DeepSP_Feature.csv\")\n",
    "dataset_BVP = pd.read_csv(\"../data/BVP/DeepSP_Feature.csv\")\n",
    "dataset_CIC = pd.read_csv(\"../data/CIC/DeepSP_Feature.csv\")\n",
    "dataset_CSI = pd.read_csv(\"../data/CSI/DeepSP_Feature.csv\")\n",
    "dataset_ELISA = pd.read_csv(\"../data/ELISA/DeepSP_Feature.csv\")\n",
    "dataset_HIC = pd.read_csv(\"../data/HIC/DeepSP_Feature.csv\")\n",
    "dataset_HEK = pd.read_csv(\"../data/HEK/DeepSP_Feature.csv\")\n",
    "dataset_PSR = pd.read_csv(\"../data/PSR/DeepSP_Feature.csv\")\n",
    "dataset_SGAC = pd.read_csv(\"../data/SGAC/DeepSP_Feature.csv\")\n",
    "dataset_SMAC = pd.read_csv(\"../data/SMAC/DeepSP_Feature.csv\")\n",
    "dataset_Tm = pd.read_csv(\"../data/Tm/DeepSP_Feature.csv\")"
   ]
  },
  {
   "cell_type": "code",
   "execution_count": 5,
   "metadata": {
    "executionInfo": {
     "elapsed": 4,
     "status": "ok",
     "timestamp": 1705884107933,
     "user": {
      "displayName": "I-En Wu",
      "userId": "17938684522967785935"
     },
     "user_tz": 300
    },
    "id": "9LU4h80KlX-H"
   },
   "outputs": [],
   "source": [
    "X_train_ACSINS = dataset_ACSINS[\n",
    "    [\"SAP_pos_CDRH1\", \"SAP_pos_CDRL3\", \"SCM_pos_CDRH1\", \"SCM_neg_CDR\"]\n",
    "]\n",
    "X_train_AS = dataset_AS[\n",
    "    [\"SAP_pos_CDRH2\", \"SCM_pos_CDRL2\", \"SCM_pos_CDRL3\", \"SCM_neg_CDRL3\"]\n",
    "]\n",
    "X_train_BVP = dataset_BVP[\n",
    "    [\"SAP_pos_CDRH1\", \"SAP_pos_CDRH3\", \"SCM_pos_CDR\", \"SCM_neg_CDRH3\"]\n",
    "]\n",
    "X_train_CIC = dataset_CIC[\n",
    "    [\"SAP_pos_CDRL2\", \"SAP_pos_CDRL3\", \"SAP_pos_Lv\", \"SCM_neg_CDR\"]\n",
    "]\n",
    "X_train_CSI = dataset_CSI[\n",
    "    [\"SAP_pos_CDRL1\", \"SAP_pos_Lv\", \"SCM_pos_CDRH2\", \"SCM_neg_CDRL2\"]\n",
    "]\n",
    "X_train_ELISA = dataset_ELISA[[\"SAP_pos_CDRH3\", \"SCM_pos_CDR\", \"SCM_neg_CDR\"]]\n",
    "X_train_HIC = dataset_HIC[\n",
    "    [\"SAP_pos_CDRL3\", \"SAP_pos_CDR\", \"SAP_pos_Hv\", \"SCM_pos_CDRH3\"]\n",
    "]\n",
    "X_train_HEK = dataset_HEK[\n",
    "    [\"SAP_pos_CDRH2\", \"SAP_pos_CDRL3\", \"SCM_pos_Lv\", \"SCM_neg_Lv\"]\n",
    "]\n",
    "X_train_PSR = dataset_PSR[[\"SAP_pos_Lv\", \"SCM_pos_CDRH2\", \"SCM_neg_CDRL2\"]]\n",
    "X_train_SGAC = dataset_SGAC[\n",
    "    [\"SAP_pos_CDRH1\", \"SAP_pos_CDRL3\", \"SCM_neg_CDRH2\", \"SCM_neg_Lv\"]\n",
    "]\n",
    "X_train_SMAC = dataset_SMAC[\n",
    "    [\"SAP_pos_CDR\", \"SAP_pos_Fv\", \"SCM_neg_CDRL2\", \"SCM_neg_Fv\"]\n",
    "]\n",
    "X_train_Tm = dataset_Tm[[\"SAP_pos_CDRH1\", \"SAP_pos_CDRH2\", \"SCM_pos_CDRH3\"]]"
   ]
  },
  {
   "cell_type": "markdown",
   "metadata": {},
   "source": [
    "# Data Preprocessing"
   ]
  },
  {
   "cell_type": "code",
   "execution_count": 6,
   "metadata": {
    "executionInfo": {
     "elapsed": 3,
     "status": "ok",
     "timestamp": 1705884107933,
     "user": {
      "displayName": "I-En Wu",
      "userId": "17938684522967785935"
     },
     "user_tz": 300
    },
    "id": "6lOD1nDdqJcH"
   },
   "outputs": [],
   "source": [
    "sc = StandardScaler()\n",
    "X_train_ACSINS = sc.fit_transform(X_train_ACSINS)\n",
    "X_train_AS = sc.fit_transform(X_train_AS)\n",
    "X_train_BVP = sc.fit_transform(X_train_BVP)\n",
    "X_train_CIC = sc.fit_transform(X_train_CIC)\n",
    "X_train_CSI = sc.fit_transform(X_train_CSI)\n",
    "X_train_ELISA = sc.fit_transform(X_train_ELISA)\n",
    "X_train_HIC = sc.fit_transform(X_train_HIC)\n",
    "X_train_HEK = sc.fit_transform(X_train_HEK)\n",
    "X_train_PSR = sc.fit_transform(X_train_PSR)\n",
    "X_train_SGAC = sc.fit_transform(X_train_SGAC)\n",
    "X_train_SMAC = sc.fit_transform(X_train_SMAC)\n",
    "X_train_Tm = sc.fit_transform(X_train_Tm)"
   ]
  },
  {
   "cell_type": "code",
   "execution_count": 7,
   "metadata": {
    "executionInfo": {
     "elapsed": 212,
     "status": "ok",
     "timestamp": 1705884108143,
     "user": {
      "displayName": "I-En Wu",
      "userId": "17938684522967785935"
     },
     "user_tz": 300
    },
    "id": "0BFVyAjpmtZ2"
   },
   "outputs": [],
   "source": [
    "y_train_ACSINS = dataset_ACSINS[\"ACSINS\"]\n",
    "y_train_AS = dataset_AS[\"AS\"]\n",
    "y_train_BVP = dataset_BVP[\"BVP\"]\n",
    "y_train_CIC = dataset_CIC[\"CIC\"]\n",
    "y_train_CSI = dataset_CSI[\"CSI\"]\n",
    "y_train_ELISA = dataset_ELISA[\"ELISA\"]\n",
    "y_train_HIC = dataset_HIC[\"HIC\"]\n",
    "y_train_HEK = dataset_HEK[\"HEK\"]\n",
    "y_train_PSR = dataset_PSR[\"PSR\"]\n",
    "y_train_SGAC = dataset_SGAC[\"SGACSTD\"]\n",
    "y_train_SMAC = dataset_SMAC[\"SMAC_nor\"]\n",
    "y_train_Tm = dataset_Tm[\"Tm\"]"
   ]
  },
  {
   "cell_type": "markdown",
   "metadata": {},
   "source": [
    "# Models Training"
   ]
  },
  {
   "cell_type": "markdown",
   "metadata": {
    "id": "JZFtMwZSmYxB"
   },
   "source": [
    "### ACSINS SVR C=3.5 e=0.1"
   ]
  },
  {
   "cell_type": "code",
   "execution_count": 8,
   "metadata": {
    "colab": {
     "base_uri": "https://localhost:8080/"
    },
    "executionInfo": {
     "elapsed": 6,
     "status": "ok",
     "timestamp": 1705891111912,
     "user": {
      "displayName": "I-En Wu",
      "userId": "17938684522967785935"
     },
     "user_tz": 300
    },
    "id": "wiu8G9dGs2pE",
    "outputId": "53f0c722-1743-4e31-eea3-e9c79d723f97"
   },
   "outputs": [
    {
     "name": "stdout",
     "output_type": "stream",
     "text": [
      "0.6809111969686431 0.6930908164435454\n"
     ]
    }
   ],
   "source": [
    "from sklearn.svm import SVR\n",
    "\n",
    "SVR_ACSINS = SVR(C=3.5, epsilon=0.1, kernel=\"rbf\", gamma=\"scale\")\n",
    "SVR_ACSINS.fit(X_train_ACSINS, y_train_ACSINS)\n",
    "y_pred_ACSINS = SVR_ACSINS.predict(X_train_ACSINS)\n",
    "r2_ACSINS = r2_score(y_train_ACSINS, y_pred_ACSINS)\n",
    "r_ACSINS = sqrt(r2_ACSINS)\n",
    "MSE_ACSINS = mean_squared_error(y_train_ACSINS, y_pred_ACSINS)\n",
    "RMSE_ACSINS = sqrt(MSE_ACSINS)\n",
    "MAE_ACSINS = mean_squared_error(y_train_ACSINS, y_pred_ACSINS)\n",
    "print(r_ACSINS, MSE_ACSINS)"
   ]
  },
  {
   "cell_type": "markdown",
   "metadata": {
    "id": "FLqxZHpCmYuW"
   },
   "source": [
    "### AS LR"
   ]
  },
  {
   "cell_type": "code",
   "execution_count": 9,
   "metadata": {
    "colab": {
     "base_uri": "https://localhost:8080/"
    },
    "executionInfo": {
     "elapsed": 2,
     "status": "ok",
     "timestamp": 1705884108143,
     "user": {
      "displayName": "I-En Wu",
      "userId": "17938684522967785935"
     },
     "user_tz": 300
    },
    "id": "eoL1QfoJ07qs",
    "outputId": "b4947422-949e-4abd-b2f0-a9e0aadc5d31"
   },
   "outputs": [
    {
     "name": "stdout",
     "output_type": "stream",
     "text": [
      "0.27336639194637663 0.002742893761564698\n"
     ]
    }
   ],
   "source": [
    "lr_AS = LinearRegression()\n",
    "lr_AS.fit(X_train_AS, y_train_AS)\n",
    "y_pred_AS = lr_AS.predict(X_train_AS)\n",
    "r2_AS = r2_score(y_train_AS, y_pred_AS)\n",
    "r_AS = sqrt(r2_AS)\n",
    "MSE_AS = mean_squared_error(y_train_AS, y_pred_AS)\n",
    "RMSE_AS = sqrt(MSE_AS)\n",
    "MAE_AS = mean_squared_error(y_train_AS, y_pred_AS)\n",
    "print(r_AS, MSE_AS)"
   ]
  },
  {
   "cell_type": "markdown",
   "metadata": {
    "id": "0peeY8O2mYro"
   },
   "source": [
    "### BVP KNN n=6"
   ]
  },
  {
   "cell_type": "code",
   "execution_count": 10,
   "metadata": {
    "colab": {
     "base_uri": "https://localhost:8080/"
    },
    "executionInfo": {
     "elapsed": 2,
     "status": "ok",
     "timestamp": 1705884108979,
     "user": {
      "displayName": "I-En Wu",
      "userId": "17938684522967785935"
     },
     "user_tz": 300
    },
    "id": "Gz0hf8aurtcg",
    "outputId": "db6aecb5-8a35-4d6b-f2dc-58a7bca396ea"
   },
   "outputs": [
    {
     "name": "stdout",
     "output_type": "stream",
     "text": [
      "0.7387908015347076 8.425241559023506\n"
     ]
    }
   ],
   "source": [
    "KNN_BVP = KNeighborsRegressor(n_neighbors=6)\n",
    "KNN_BVP.fit(X_train_BVP, y_train_BVP)\n",
    "y_pred_BVP = KNN_BVP.predict(X_train_BVP)\n",
    "r2_BVP = r2_score(y_train_BVP, y_pred_BVP)\n",
    "r_BVP = sqrt(r2_BVP)\n",
    "MSE_BVP = mean_squared_error(y_train_BVP, y_pred_BVP)\n",
    "RMSE_BVP = sqrt(MSE_BVP)\n",
    "MAE_BVP = mean_squared_error(y_train_BVP, y_pred_BVP)\n",
    "print(r_BVP, MSE_BVP)"
   ]
  },
  {
   "cell_type": "markdown",
   "metadata": {
    "id": "033O1WfvmYpE"
   },
   "source": [
    "### CIC KNN n=6"
   ]
  },
  {
   "cell_type": "code",
   "execution_count": 11,
   "metadata": {
    "colab": {
     "base_uri": "https://localhost:8080/"
    },
    "executionInfo": {
     "elapsed": 3,
     "status": "ok",
     "timestamp": 1705884109526,
     "user": {
      "displayName": "I-En Wu",
      "userId": "17938684522967785935"
     },
     "user_tz": 300
    },
    "id": "uOVlR7w4rwA_",
    "outputId": "1871964a-a21c-4896-8ff5-6bdd8c161c75"
   },
   "outputs": [
    {
     "name": "stdout",
     "output_type": "stream",
     "text": [
      "0.6943256767925905 0.5654896239220957\n"
     ]
    }
   ],
   "source": [
    "KNN_CIC = KNeighborsRegressor(n_neighbors=6)\n",
    "KNN_CIC.fit(X_train_CIC, y_train_CIC)\n",
    "y_pred_CIC = KNN_CIC.predict(X_train_CIC)\n",
    "r2_CIC = r2_score(y_train_CIC, y_pred_CIC)\n",
    "r_CIC = sqrt(r2_CIC)\n",
    "MSE_CIC = mean_squared_error(y_train_CIC, y_pred_CIC)\n",
    "RMSE_CIC = sqrt(MSE_CIC)\n",
    "MAE_CIC = mean_squared_error(y_train_CIC, y_pred_CIC)\n",
    "print(r_CIC, MSE_CIC)"
   ]
  },
  {
   "cell_type": "markdown",
   "metadata": {
    "id": "CCZafgPtmYmf"
   },
   "source": [
    "### CSI SVR C=1.0 e=0.2"
   ]
  },
  {
   "cell_type": "code",
   "execution_count": 12,
   "metadata": {
    "colab": {
     "base_uri": "https://localhost:8080/"
    },
    "executionInfo": {
     "elapsed": 6,
     "status": "ok",
     "timestamp": 1705884110442,
     "user": {
      "displayName": "I-En Wu",
      "userId": "17938684522967785935"
     },
     "user_tz": 300
    },
    "id": "c1UX7GV1s-Ht",
    "outputId": "f5fde6af-da50-40c5-da96-9f83220d8246"
   },
   "outputs": [
    {
     "name": "stdout",
     "output_type": "stream",
     "text": [
      "0.5552733361636978 0.8817569007497744\n"
     ]
    }
   ],
   "source": [
    "from sklearn.svm import SVR\n",
    "\n",
    "SVR_CSI = SVR(C=1.0, epsilon=0.2, kernel=\"rbf\", gamma=\"scale\")\n",
    "SVR_CSI.fit(X_train_CSI, y_train_CSI)\n",
    "y_pred_CSI = SVR_CSI.predict(X_train_CSI)\n",
    "r2_CSI = r2_score(y_train_CSI, y_pred_CSI)\n",
    "r_CSI = sqrt(r2_CSI)\n",
    "MSE_CSI = mean_squared_error(y_train_CSI, y_pred_CSI)\n",
    "RMSE_CSI = sqrt(MSE_CSI)\n",
    "MAE_CSI = mean_squared_error(y_train_CSI, y_pred_CSI)\n",
    "print(r_CSI, MSE_CSI)"
   ]
  },
  {
   "cell_type": "markdown",
   "metadata": {
    "id": "2-6Z5dVqmYjz"
   },
   "source": [
    "### ELISA KNN n=3"
   ]
  },
  {
   "cell_type": "code",
   "execution_count": 13,
   "metadata": {
    "colab": {
     "base_uri": "https://localhost:8080/"
    },
    "executionInfo": {
     "elapsed": 5,
     "status": "ok",
     "timestamp": 1705884111069,
     "user": {
      "displayName": "I-En Wu",
      "userId": "17938684522967785935"
     },
     "user_tz": 300
    },
    "id": "binqwgP7ryMg",
    "outputId": "fb1b6eba-cbc3-499a-bc2c-0b973d76c6db"
   },
   "outputs": [
    {
     "name": "stdout",
     "output_type": "stream",
     "text": [
      "0.8473431985957309 1.9669604653838246\n"
     ]
    }
   ],
   "source": [
    "KNN_ELISA = KNeighborsRegressor(n_neighbors=3)\n",
    "KNN_ELISA.fit(X_train_ELISA, y_train_ELISA)\n",
    "y_pred_ELISA = KNN_ELISA.predict(X_train_ELISA)\n",
    "r2_ELISA = r2_score(y_train_ELISA, y_pred_ELISA)\n",
    "r_ELISA = sqrt(r2_ELISA)\n",
    "MSE_ELISA = mean_squared_error(y_train_ELISA, y_pred_ELISA)\n",
    "RMSE_ELISA = sqrt(MSE_ELISA)\n",
    "MAE_ELISA = mean_squared_error(y_train_ELISA, y_pred_ELISA)\n",
    "print(r_ELISA, MSE_ELISA)"
   ]
  },
  {
   "cell_type": "markdown",
   "metadata": {
    "id": "wTdnb76zmYba"
   },
   "source": [
    "### HIC SVR C=2.0 e=0.01"
   ]
  },
  {
   "cell_type": "code",
   "execution_count": 14,
   "metadata": {
    "colab": {
     "base_uri": "https://localhost:8080/"
    },
    "executionInfo": {
     "elapsed": 4,
     "status": "ok",
     "timestamp": 1705884111930,
     "user": {
      "displayName": "I-En Wu",
      "userId": "17938684522967785935"
     },
     "user_tz": 300
    },
    "id": "jzHlGpe9yYwl",
    "outputId": "faff0349-436c-4043-b1c9-54b5009d132f"
   },
   "outputs": [
    {
     "name": "stdout",
     "output_type": "stream",
     "text": [
      "0.7283280020808967 0.5608490329707032\n"
     ]
    }
   ],
   "source": [
    "from sklearn.svm import SVR\n",
    "\n",
    "SVR_HIC = SVR(C=2.0, epsilon=0.01, kernel=\"rbf\", gamma=\"scale\")\n",
    "SVR_HIC.fit(X_train_HIC, y_train_HIC)\n",
    "y_pred_HIC = SVR_HIC.predict(X_train_HIC)\n",
    "r2_HIC = r2_score(y_train_HIC, y_pred_HIC)\n",
    "r_HIC = sqrt(r2_HIC)\n",
    "MSE_HIC = mean_squared_error(y_train_HIC, y_pred_HIC)\n",
    "RMSE_HIC = sqrt(MSE_HIC)\n",
    "MAE_HIC = mean_squared_error(y_train_HIC, y_pred_HIC)\n",
    "print(r_HIC, MSE_HIC)"
   ]
  },
  {
   "cell_type": "markdown",
   "metadata": {
    "id": "4IxykPcNmYRs"
   },
   "source": [
    "### HEK KNN n=5"
   ]
  },
  {
   "cell_type": "code",
   "execution_count": 15,
   "metadata": {
    "colab": {
     "base_uri": "https://localhost:8080/"
    },
    "executionInfo": {
     "elapsed": 4,
     "status": "ok",
     "timestamp": 1705884112897,
     "user": {
      "displayName": "I-En Wu",
      "userId": "17938684522967785935"
     },
     "user_tz": 300
    },
    "id": "0TGV2oxIr1Jr",
    "outputId": "6dfef5ea-29d5-45bd-9f92-081523c305a9"
   },
   "outputs": [
    {
     "name": "stdout",
     "output_type": "stream",
     "text": [
      "0.6524747770520979 2236.5250708465364\n"
     ]
    }
   ],
   "source": [
    "KNN_HEK = KNeighborsRegressor(n_neighbors=5)\n",
    "KNN_HEK.fit(X_train_HEK, y_train_HEK)\n",
    "y_pred_HEK = KNN_HEK.predict(X_train_HEK)\n",
    "r2_HEK = r2_score(y_train_HEK, y_pred_HEK)\n",
    "r_HEK = sqrt(r2_HEK)\n",
    "MSE_HEK = mean_squared_error(y_train_HEK, y_pred_HEK)\n",
    "RMSE_HEK = sqrt(MSE_HEK)\n",
    "MAE_HEK = mean_squared_error(y_train_HEK, y_pred_HEK)\n",
    "print(r_HEK, MSE_HEK)"
   ]
  },
  {
   "cell_type": "markdown",
   "metadata": {
    "id": "_y8tgdx7mYGu"
   },
   "source": [
    "### PSR SVR C=0.4 e=0.1"
   ]
  },
  {
   "cell_type": "code",
   "execution_count": 16,
   "metadata": {
    "colab": {
     "base_uri": "https://localhost:8080/"
    },
    "executionInfo": {
     "elapsed": 2,
     "status": "ok",
     "timestamp": 1705884113662,
     "user": {
      "displayName": "I-En Wu",
      "userId": "17938684522967785935"
     },
     "user_tz": 300
    },
    "id": "ED4xzX0ky6I2",
    "outputId": "1cd5969e-487d-43bd-a7a5-30c226ed1324"
   },
   "outputs": [
    {
     "name": "stdout",
     "output_type": "stream",
     "text": [
      "0.694831459091086 0.02139229739114875\n"
     ]
    }
   ],
   "source": [
    "from sklearn.svm import SVR\n",
    "\n",
    "SVR_PSR = SVR(C=0.4, epsilon=0.1, kernel=\"rbf\", gamma=\"scale\")\n",
    "SVR_PSR.fit(X_train_PSR, y_train_PSR)\n",
    "y_pred_PSR = SVR_PSR.predict(X_train_PSR)\n",
    "r2_PSR = r2_score(y_train_PSR, y_pred_PSR)\n",
    "r_PSR = sqrt(r2_PSR)\n",
    "MSE_PSR = mean_squared_error(y_train_PSR, y_pred_PSR)\n",
    "RMSE_PSR = sqrt(MSE_PSR)\n",
    "MAE_PSR = mean_squared_error(y_train_PSR, y_pred_PSR)\n",
    "print(r_PSR, MSE_PSR)"
   ]
  },
  {
   "cell_type": "markdown",
   "metadata": {
    "id": "2xNGPlY5mXxA"
   },
   "source": [
    "### SGAC SVR C=3.0 e=0.3"
   ]
  },
  {
   "cell_type": "code",
   "execution_count": 17,
   "metadata": {
    "colab": {
     "base_uri": "https://localhost:8080/"
    },
    "executionInfo": {
     "elapsed": 155,
     "status": "ok",
     "timestamp": 1705884114504,
     "user": {
      "displayName": "I-En Wu",
      "userId": "17938684522967785935"
     },
     "user_tz": 300
    },
    "id": "XIDUKHf9zVLG",
    "outputId": "3abaae72-54dd-4c60-a474-fba62bafab7e"
   },
   "outputs": [
    {
     "name": "stdout",
     "output_type": "stream",
     "text": [
      "0.6887094128163656 0.5218422691491639\n"
     ]
    }
   ],
   "source": [
    "from sklearn.svm import SVR\n",
    "\n",
    "SVR_SGAC = SVR(C=3.0, epsilon=0.3, kernel=\"rbf\", gamma=\"scale\")\n",
    "SVR_SGAC.fit(X_train_SGAC, y_train_SGAC)\n",
    "y_pred_SGAC = SVR_SGAC.predict(X_train_SGAC)\n",
    "r2_SGAC = r2_score(y_train_SGAC, y_pred_SGAC)\n",
    "r_SGAC = sqrt(r2_SGAC)\n",
    "MSE_SGAC = mean_squared_error(y_train_SGAC, y_pred_SGAC)\n",
    "RMSE_SGAC = sqrt(MSE_SGAC)\n",
    "MAE_SGAC = mean_squared_error(y_train_SGAC, y_pred_SGAC)\n",
    "print(r_SGAC, MSE_SGAC)"
   ]
  },
  {
   "cell_type": "markdown",
   "metadata": {
    "id": "-uk9-FbXmXlu"
   },
   "source": [
    "### SMAC KNN n=6"
   ]
  },
  {
   "cell_type": "code",
   "execution_count": 18,
   "metadata": {
    "colab": {
     "base_uri": "https://localhost:8080/"
    },
    "executionInfo": {
     "elapsed": 2,
     "status": "ok",
     "timestamp": 1705884115080,
     "user": {
      "displayName": "I-En Wu",
      "userId": "17938684522967785935"
     },
     "user_tz": 300
    },
    "id": "8M69UCc3r3T_",
    "outputId": "675c537a-00c0-4ea0-8747-bb675485082f"
   },
   "outputs": [
    {
     "name": "stdout",
     "output_type": "stream",
     "text": [
      "0.7354505583160753 0.6092917755781933\n"
     ]
    }
   ],
   "source": [
    "KNN_SMAC = KNeighborsRegressor(n_neighbors=6)\n",
    "KNN_SMAC.fit(X_train_SMAC, y_train_SMAC)\n",
    "y_pred_SMAC = KNN_SMAC.predict(X_train_SMAC)\n",
    "r2_SMAC = r2_score(y_train_SMAC, y_pred_SMAC)\n",
    "r_SMAC = sqrt(r2_SMAC)\n",
    "MSE_SMAC = mean_squared_error(y_train_SMAC, y_pred_SMAC)\n",
    "RMSE_SMAC = sqrt(MSE_SMAC)\n",
    "MAE_SMAC = mean_squared_error(y_train_SMAC, y_pred_SMAC)\n",
    "print(r_SMAC, MSE_SMAC)"
   ]
  },
  {
   "cell_type": "markdown",
   "metadata": {
    "id": "4q97m_MXmXas"
   },
   "source": [
    "### Tm KNN n=6"
   ]
  },
  {
   "cell_type": "code",
   "execution_count": 19,
   "metadata": {
    "colab": {
     "base_uri": "https://localhost:8080/"
    },
    "executionInfo": {
     "elapsed": 5,
     "status": "ok",
     "timestamp": 1705884116045,
     "user": {
      "displayName": "I-En Wu",
      "userId": "17938684522967785935"
     },
     "user_tz": 300
    },
    "id": "8APf1PedmpKg",
    "outputId": "c5991cc9-d509-4d90-c8e9-581aff3c56c8"
   },
   "outputs": [
    {
     "name": "stdout",
     "output_type": "stream",
     "text": [
      "0.625084304875398 20.779197080291972\n"
     ]
    }
   ],
   "source": [
    "KNN_Tm = KNeighborsRegressor(n_neighbors=6)\n",
    "KNN_Tm.fit(X_train_Tm, y_train_Tm)\n",
    "y_pred_Tm = KNN_Tm.predict(X_train_Tm)\n",
    "r2_Tm = r2_score(y_train_Tm, y_pred_Tm)\n",
    "r_Tm = sqrt(r2_Tm)\n",
    "MSE_Tm = mean_squared_error(y_train_Tm, y_pred_Tm)\n",
    "RMSE_Tm = sqrt(MSE_Tm)\n",
    "MAE_Tm = mean_squared_error(y_train_Tm, y_pred_Tm)\n",
    "print(r_Tm, MSE_Tm)"
   ]
  },
  {
   "cell_type": "markdown",
   "metadata": {},
   "source": [
    "# Model Export"
   ]
  },
  {
   "cell_type": "code",
   "execution_count": null,
   "metadata": {},
   "outputs": [
    {
     "data": {
      "text/plain": [
       "['Trained_model/Tm_KNN_model.joblib']"
      ]
     },
     "execution_count": 20,
     "metadata": {},
     "output_type": "execute_result"
    }
   ],
   "source": [
    "joblib.dump(SVR_ACSINS, \"../models/Trained_model/ACSINS_SVR_model.joblib\")\n",
    "joblib.dump(lr_AS, \"../models/Trained_model/AS_LR_model.joblib\")\n",
    "joblib.dump(KNN_BVP, \"../models/Trained_model/BVP_KNN_model.joblib\")\n",
    "joblib.dump(KNN_CIC, \"../models/Trained_model/CIC_KNN_model.joblib\")\n",
    "joblib.dump(SVR_CSI, \"../models/Trained_model/CSI_SVR_model.joblib\")\n",
    "joblib.dump(KNN_ELISA, \"../models/Trained_model/ELISA_KNN_model.joblib\")\n",
    "joblib.dump(KNN_HEK, \"../models/Trained_model/HEK_KNN_model.joblib\")\n",
    "joblib.dump(SVR_HIC, \"../models/Trained_model/HIC_SVR_model.joblib\")\n",
    "joblib.dump(SVR_PSR, \"../models/Trained_model/PSR_SVR_model.joblib\")\n",
    "joblib.dump(SVR_SGAC, \"../models/Trained_model/SGAC_SVR_model.joblib\")\n",
    "joblib.dump(KNN_SMAC, \"../models/Trained_model/SMAC_KNN_model.joblib\")\n",
    "joblib.dump(KNN_Tm, \"../models/Trained_model/Tm_KNN_model.joblib\")"
   ]
  }
 ],
 "metadata": {
  "colab": {
   "collapsed_sections": [
    "E8BnLW5aLgXI",
    "5pjDEMJPlOfT"
   ],
   "provenance": []
  },
  "interpreter": {
   "hash": "eaa48f998f40465446332ad1becce03aa82a6fc3eb83aaffcb599108640a3601"
  },
  "kernelspec": {
   "display_name": "Python 3.8.13 ('coding_practice')",
   "language": "python",
   "name": "python3"
  },
  "language_info": {
   "codemirror_mode": {
    "name": "ipython",
    "version": 3
   },
   "file_extension": ".py",
   "mimetype": "text/x-python",
   "name": "python",
   "nbconvert_exporter": "python",
   "pygments_lexer": "ipython3",
   "version": "3.8.16"
  },
  "orig_nbformat": 4
 },
 "nbformat": 4,
 "nbformat_minor": 0
}
